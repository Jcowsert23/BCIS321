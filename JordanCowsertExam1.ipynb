{
  "cells": [
    {
      "cell_type": "markdown",
      "metadata": {
        "id": "view-in-github",
        "colab_type": "text"
      },
      "source": [
        "<a href=\"https://colab.research.google.com/github/Jcowsert23/BCIS321/blob/main/JordanCowsertExam1.ipynb\" target=\"_parent\"><img src=\"https://colab.research.google.com/assets/colab-badge.svg\" alt=\"Open In Colab\"/></a>"
      ]
    },
    {
      "cell_type": "code",
      "execution_count": null,
      "id": "44b7d80a",
      "metadata": {
        "id": "44b7d80a",
        "outputId": "a8bc76f9-6885-499b-c14f-c11612e8e24c"
      },
      "outputs": [
        {
          "name": "stdout",
          "output_type": "stream",
          "text": [
            "hzhmdosh jozhe ymotmqffkst ks ydrios sor hzhmdosh lsoce riqr ydrios ke sqfhv qurhm fosrd ydrios\n"
          ]
        }
      ],
      "source": [
        "alphabet = \"abcdefghijklmnopqrstuvwxyz\"\n",
        "key = \"fcpevqkzgmtrayonujdlwhbxsi\"\n",
        "text = \"vhvjsoyv rohvd njokjfaagyk gy nslzoy yol vhvjsoyv tyobd lzfl nslzoy gd yfave fqlvj aoyls nslzoy\"\n",
        "d = dict(zip(alphabet, key))\n",
        "x=\"\"\n",
        "for l in text:\n",
        "    if l!=' ':\n",
        "        x+=str(d[l])\n",
        "    else:\n",
        "        x+=' '\n",
        "\n",
        "print(x)"
      ]
    },
    {
      "cell_type": "code",
      "execution_count": null,
      "id": "00ea79c8",
      "metadata": {
        "scrolled": true,
        "id": "00ea79c8",
        "outputId": "d35d13ce-f17f-48b7-d388-f3d6712037ad"
      },
      "outputs": [
        {
          "name": "stdout",
          "output_type": "stream",
          "text": [
            "longest run is 4\n",
            "86.46782623009003\n"
          ]
        }
      ],
      "source": [
        "import numpy as np\n",
        "vec = np.random.uniform(80, 120, 720)\n",
        "#print(vec)\n",
        "\n",
        "current = 0\n",
        "longest = 0\n",
        "\n",
        "for r in range(1, len(vec)):\n",
        "    if vec[r] > vec[r-1]:\n",
        "        current +=1\n",
        "\n",
        "        if current > longest:\n",
        "            longest = current\n",
        "\n",
        "    else:\n",
        "        current = 0\n",
        "\n",
        "if current > longest:\n",
        "    longest = current\n",
        "\n",
        "if longest == 0:\n",
        "    print(\"No gains\")\n",
        "else:\n",
        "    print(\"longest run is {}\".format(longest))\n",
        "    print(vec[r])\n",
        ""
      ]
    },
    {
      "cell_type": "code",
      "execution_count": null,
      "id": "d8ed4a97",
      "metadata": {
        "id": "d8ed4a97",
        "outputId": "e210acc0-20a0-48d4-9d33-d36a8e0f8dc9"
      },
      "outputs": [
        {
          "name": "stdout",
          "output_type": "stream",
          "text": [
            "Select N or SN\n",
            "YOU ENCOUNTER A DRAGON!!\n",
            "Press D to roll the dice D\n",
            "you rolled a :  6\n",
            "YOU DEFEATED THE DRAGON! +1000 GOLD\n"
          ]
        }
      ],
      "source": [
        "import random as r\n",
        "\n",
        "start = input(\"Select N or S\")\n",
        "if start == \"S\":\n",
        "    print(\"YOU FIND TREASURE +500\")\n",
        "    while True:\n",
        "        turn2 = input(\"Select N or S\")\n",
        "        if turn2 == \"S\":\n",
        "            print(\"YOU FELL IN THE PIT. GAME OVER\")\n",
        "            break\n",
        "        elif turn2 == \"N\":\n",
        "            print(\"YOU MUST DEFEAT THE ORC\")\n",
        "            while True:\n",
        "                orc = input(\"Press D to roll the dice \")\n",
        "                if orc != 'D':\n",
        "                    continue\n",
        "                n = r.randint(1,6)\n",
        "                print(\"you rolled a : \", n)\n",
        "\n",
        "                if n == 1 or n == 2:\n",
        "                    print(\"YOU WERE BEATEN BY THE ORC. GAME OVER.\")\n",
        "                    break\n",
        "\n",
        "                elif n == 3 or n == 4:\n",
        "                    print(\"YOU EVADED THE ORC AND REACHED THE EXIT.\")\n",
        "                    break\n",
        "                else:\n",
        "                    print(\"YOU DEFEATED THE ORC AND REACHED THE EXIT. GOLD +1000\")\n",
        "                    break\n",
        "\n",
        "if start == \"N\":\n",
        "    print(\"YOU ENCOUNTER A DRAGON!!\")\n",
        "    while True:\n",
        "        dragon = input(\"Press D to roll the dice \")\n",
        "        if dragon != 'D':\n",
        "            continue\n",
        "        n = r.randint(1,6)\n",
        "        print(\"you rolled a : \", n)\n",
        "\n",
        "        if n ==1 or n ==2:\n",
        "            print(\"YOU WERE EATEN BY THE DRAGON. GAME OVER\")\n",
        "            break\n",
        "\n",
        "        elif n == 3 or n == 4:\n",
        "            print(\"YOU EVADED THE DRAGON!\")\n",
        "            break\n",
        "        else:\n",
        "            print(\"YOU DEFEATED THE DRAGON! +1000 GOLD\")\n",
        "            break\n",
        "\n",
        "        while True:\n",
        "            turn3 = input(\"Select N or S\")\n",
        "            if turn3 == \"N\":\n",
        "                print(\"YOU FIND TREASURE +500. YOU HAVE REACHED THE EXIT CONGRATULATIONS!\")\n",
        "                break\n",
        "            elif turn3 == \"S\":\n",
        "                print(\"YOU MUST DEFEAT THE ORC!\")\n",
        "                while True:\n",
        "                    orc2 = input(\"Press D to roll the dice \")\n",
        "                    if orc2 != 'D':\n",
        "\n",
        "                        n = r.randint(1,6)\n",
        "                        print(\"you rolled a : \", n)\n",
        "                        if n == 1 or n == 2:\n",
        "                            print(\"YOU WERE BEATEN BY THE ORC. GAME OVER\")\n",
        "                            break\n",
        "                        elif n == 3 or n == 4:\n",
        "                            print(\"YOU EVADED THE ORC AND REACHED THE EXIT.\")\n",
        "                            break\n",
        "\n",
        "                        else:\n",
        "                            print(\"YOU DEFEATED THE ORC AND REACHED THE EXIT. +1000 GOLD!\")\n",
        "                            break\n",
        "\n",
        "\n",
        "\n",
        "\n",
        "\n",
        "\n",
        "\n",
        "\n",
        "\n",
        "\n",
        "\n",
        ""
      ]
    },
    {
      "cell_type": "code",
      "execution_count": null,
      "id": "a2ad19c9",
      "metadata": {
        "id": "a2ad19c9",
        "outputId": "dfa3bc4f-b6ce-450a-8f59-41024ac2e9f0"
      },
      "outputs": [
        {
          "name": "stdout",
          "output_type": "stream",
          "text": [
            "enter name of first customer here   bob\n",
            "enter item purchased by first customer here   shirt\n",
            "enter subtotal of first customer purchase here. enter as dollar amount i.e. 10.00   10\n",
            "enter name of second customer here  sam\n",
            "enter item purchased by second customer here   pant\n",
            "enter subtotal of second customer purchase here. enter as dollar amount i.e. 10.00   20\n",
            "enter name of third customer here  diane\n",
            "enter item purchased by third customer here   hat\n",
            "enter subtotal of third customer purchase here. enter as dollar amount i.e. 10.00   10\n",
            "\u001b[31m Customer\tItem\tSubtotal\tTax\tGrand Total\n",
            "\n",
            "\u001b[0m Bob\t\tShirt\t$10.00\t\t$1.00\t$11.00\n",
            "\n",
            "\u001b[1m Sam\t\tPant\t$20.00\t\t$2.00\t$22.00\n",
            "\n",
            "\u001b[0m Diane\t\tHat\t$10.00\t\t$1.00\t$11.00\n",
            "\n",
            "\u001b[4m\u001b[1mAll Sales       $44.0\n"
          ]
        }
      ],
      "source": [
        "name1 = input(\"enter name of first customer here   \")\n",
        "item1 = input(\"enter item purchased by first customer here   \")\n",
        "subtotal1 = float(input(\"enter subtotal of first customer purchase here. enter as dollar amount i.e. 10.00   \"))\n",
        "\n",
        "name2 = input(\"enter name of second customer here  \")\n",
        "item2 = input(\"enter item purchased by second customer here   \")\n",
        "subtotal2 = float(input(\"enter subtotal of second customer purchase here. enter as dollar amount i.e. 10.00   \"))\n",
        "\n",
        "name3 = input(\"enter name of third customer here  \")\n",
        "item3 = input(\"enter item purchased by third customer here   \")\n",
        "subtotal3 = float(input(\"enter subtotal of third customer purchase here. enter as dollar amount i.e. 10.00   \"))\n",
        "\n",
        "tax = .1\n",
        "tax1 = float(subtotal1) * float(tax)\n",
        "tax2 = float(subtotal2) * float(tax)\n",
        "tax3 = float(subtotal3) * float(tax)\n",
        "\n",
        "grandtotal1 = float(subtotal1) + float(tax1)\n",
        "grandtotal2 = float(subtotal2) + float(tax2)\n",
        "grandtotal3 = float(subtotal3) + float(tax3)\n",
        "\n",
        "allsales = float(grandtotal1) + float(grandtotal2) + float(grandtotal3)\n",
        "\n",
        "print('\\033[31m Customer\\tItem\\tSubtotal\\tTax\\tGrand Total\\n')\n",
        "print(f'\\033[0m {name1.capitalize():<}\\t\\t{item1.capitalize():^}\\t${subtotal1:<.2f}\\t\\t${tax1:<.2f}\\t${grandtotal1:<.2f}\\n')\n",
        "\n",
        "print(f'\\033[1m {name2.capitalize():<}\\t\\t{item2.capitalize():^}\\t${subtotal2:<.2f}\\t\\t${tax2:<.2f}\\t${grandtotal2:<.2f}\\n')\n",
        "\n",
        "print(f'\\033[0m {name3.capitalize():<}\\t\\t{item3.capitalize():^}\\t${subtotal3:<.2f}\\t\\t${tax3:<.2f}\\t${grandtotal3:<.2f}\\n')\n",
        "\n",
        "print(f\"\\033[4m\\033[1mAll Sales       ${allsales}\")"
      ]
    },
    {
      "cell_type": "code",
      "execution_count": null,
      "id": "66d2b975",
      "metadata": {
        "id": "66d2b975",
        "outputId": "f31bcb60-a08c-4034-ad63-6595d74e6d32"
      },
      "outputs": [
        {
          "name": "stdout",
          "output_type": "stream",
          "text": [
            "Input exam grade one: 45\n",
            "Input exam grade two: 78\n",
            "Input exam grade three: 31\n",
            "Exam: [45, 78, 31]\n",
            "Average:=51.33%\n",
            "Grade: F\n",
            "Exam: [45, 78, 31]\n",
            "Average:=51.33%\n",
            "Grade: F\n",
            "Exam: [45, 78, 31]\n",
            "Average:=51.33%\n",
            "Grade: F\n",
            "Student is failing.\n"
          ]
        }
      ],
      "source": [
        "# Average\tGrade\n",
        "# 90+\t\tA\n",
        "# 80-89\t\tB\n",
        "# 70-79\t\tC\n",
        "# 60-69\t\tD\n",
        "# 0-59\t\tF\n",
        "# Exams: 89, 90, 90\n",
        "# Average: 90%\n",
        "# Grade: A\n",
        "# Student is passing.\n",
        "# Exams: 50, 51, 0\n",
        "# Average: 33%\n",
        "# Grade: F\n",
        "# Student is failing.\n",
        "exam_one = int(input(\"Input exam grade one: \"))\n",
        "exam_two = int(input(\"Input exam grade two: \"))\n",
        "exam_three = int(input(\"Input exam grade three: \"))\n",
        "grades = [exam_one, exam_two, exam_three]\n",
        "\n",
        "avg = (exam_one + exam_two + exam_three)/3\n",
        "if avg >= 90:\n",
        "    letter_grade = \"A\"\n",
        "elif avg >= 80 and avg < 90:\n",
        "    letter_grade = \"B\"\n",
        "elif avg > 69 and avg < 80:\n",
        "    letter_grade = \"C\"\n",
        "elif avg <= 69 and avg >= 65:\n",
        "    letter_grade = \"D\"\n",
        "elif avg <= 59:\n",
        "    letter_grade = \"F\"\n",
        "for grade in grades:\n",
        "    print(\"Exam: \" + str(grades))\n",
        "    print(f'Average:={avg:.2f}%')\n",
        "    print(\"Grade: \" + letter_grade)\n",
        "if letter_grade == \"F\":\n",
        "    print(\"Student is failing.\")\n",
        "else:\n",
        "    print(\"Student is passing.\")\n"
      ]
    },
    {
      "cell_type": "code",
      "execution_count": null,
      "id": "2c09a1b0",
      "metadata": {
        "id": "2c09a1b0"
      },
      "outputs": [],
      "source": []
    }
  ],
  "metadata": {
    "kernelspec": {
      "display_name": "Python 3 (ipykernel)",
      "language": "python",
      "name": "python3"
    },
    "language_info": {
      "codemirror_mode": {
        "name": "ipython",
        "version": 3
      },
      "file_extension": ".py",
      "mimetype": "text/x-python",
      "name": "python",
      "nbconvert_exporter": "python",
      "pygments_lexer": "ipython3",
      "version": "3.9.13"
    },
    "colab": {
      "provenance": [],
      "include_colab_link": true
    }
  },
  "nbformat": 4,
  "nbformat_minor": 5
}