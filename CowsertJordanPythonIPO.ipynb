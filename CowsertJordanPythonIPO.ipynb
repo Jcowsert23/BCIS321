{
  "cells": [
    {
      "cell_type": "markdown",
      "metadata": {
        "id": "view-in-github",
        "colab_type": "text"
      },
      "source": [
        "<a href=\"https://colab.research.google.com/github/Jcowsert23/BCIS321/blob/main/CowsertJordanPythonIPO.ipynb\" target=\"_parent\"><img src=\"https://colab.research.google.com/assets/colab-badge.svg\" alt=\"Open In Colab\"/></a>"
      ]
    },
    {
      "cell_type": "code",
      "execution_count": null,
      "id": "7f896a78",
      "metadata": {
        "id": "7f896a78",
        "outputId": "95839664-ff06-4c7d-dada-294cc9253430"
      },
      "outputs": [
        {
          "name": "stdout",
          "output_type": "stream",
          "text": [
            "Enter name of the first person here homer\n",
            "Enter hours worked by first person in numeric form (i.e. 40)25\n",
            "Enter hourly rate of first person as a decimal number (i.e. 100.15) 40\n",
            "Enter name of the second person here marge\n",
            "Enter hours worked by second person in numeric form (i.e. 40)40\n",
            "Enter hourly rate of second person as a decimal number (i.e. 100.15) 50\n",
            "Enter name of the third person here maggie\n",
            "Enter hours worked by third person in numeric form (i.e. 40)10\n",
            "Enter hourly rate of third person as a decimal number (i.e. 100.15) 100.14\n",
            "\u001b[4mName  Hours Worked  Hourly Rate  Gross Pay  Taxes Owed  Net Pay\u001b[0m\n",
            "Homer      25            $40.00   $1000.00     \u001b[0;31m$200.00\u001b[0;30m  $800.00\n",
            "Marge      40            $50.00   $2000.00     \u001b[0;31m$400.00\u001b[0;30m $1600.00\n",
            "Maggie     10           $100.14   $1001.40     \u001b[0;31m$200.28\u001b[0;30m  $801.12\n",
            "\u001b[1mTotals:    75           $190.14   $4001.40     \u001b[1;31m$800.28\u001b[1;30m $3201.12\u001b[0m\n"
          ]
        }
      ],
      "source": [
        "#Step 1: inputs\n",
        "\n",
        "name1 = input(\"Enter name of the first person here \")\n",
        "\n",
        "hours1 = int(input(\"Enter hours worked by first person in numeric form (i.e. 40)\"))\n",
        "\n",
        "rate1 = float(input(\"Enter hourly rate of first person as a decimal number (i.e. 100.15) \"))\n",
        "\n",
        "name2 = input(\"Enter name of the second person here \")\n",
        "\n",
        "hours2 = int(input(\"Enter hours worked by second person in numeric form (i.e. 40)\"))\n",
        "\n",
        "rate2 = float(input(\"Enter hourly rate of second person as a decimal number (i.e. 100.15) \"))\n",
        "\n",
        "name3 = input(\"Enter name of the third person here \")\n",
        "\n",
        "hours3 = int(input(\"Enter hours worked by third person in numeric form (i.e. 40)\"))\n",
        "\n",
        "rate3 = float(input(\"Enter hourly rate of third person as a decimal number (i.e. 100.15) \"))\n",
        "\n",
        "#Step 2: Processing\n",
        "\n",
        "totalhours = int(hours1) + int(hours2) + int(hours3)\n",
        "\n",
        "\n",
        "totalrate = float(rate1) + float(rate2) + float(rate3)\n",
        "\n",
        "\n",
        "grosspay1 = int(hours1) * float(rate1)\n",
        "grosspay2 = int(hours2) * float(rate2)\n",
        "grosspay3 = int(hours3) * float(rate3)\n",
        "\n",
        "totalgross = float(grosspay1) + float(grosspay2) + float(grosspay3)\n",
        "\n",
        "tax = .2\n",
        "taxowed1 = float(grosspay1) * float(tax)\n",
        "taxowed2 = float(grosspay2) * float(tax)\n",
        "taxowed3 = float(grosspay3) * (tax)\n",
        "\n",
        "totaltaxowed = float(taxowed1) + float(taxowed2) + float(taxowed3)\n",
        "\n",
        "netpay1 = float(grosspay1) - float(taxowed1)\n",
        "netpay2 = float(grosspay2) - float(taxowed2)\n",
        "netpay3 = float(grosspay3) - float(taxowed3)\n",
        "\n",
        "totalnet = float(netpay1) + float(netpay2) + float(netpay3)\n",
        "\n",
        "#Step 3: Print Outputs\n",
        "print('\\033[4mName  Hours Worked  Hourly Rate  Gross Pay  Taxes Owed  Net Pay\\033[0m')\n",
        "print(f'{name1.capitalize():<} {hours1:^12}       ${rate1:>5.2f}   ${grosspay1:>6.2f}     \\033[0;31m${taxowed1:>6.2f}\\033[0;30m  ${netpay1:>6.2f}')\n",
        "print(f'{name2.capitalize():<} {hours2:^12}       ${rate2:>5.2f}   ${grosspay2:>6.2f}     \\033[0;31m${taxowed2:>6.2f}\\033[0;30m ${netpay2:>7.2f}')\n",
        "print(f'{name3.capitalize():<} {hours3:^10}       ${rate3:>6.2f}   ${grosspay3:>6.2f}     \\033[0;31m${taxowed3:>6.2f}\\033[0;30m  ${netpay3:>6.2f}')\n",
        "print(f'\\033[1m{\"Totals:\":<} {totalhours:^8}        ${totalrate:>6.2f}   ${totalgross:>6.2f}     \\033[1;31m${totaltaxowed:>6.2f}\\033[1;30m ${totalnet:>6.2f}\\033[0m')\n"
      ]
    },
    {
      "cell_type": "code",
      "execution_count": null,
      "id": "3e10917f",
      "metadata": {
        "id": "3e10917f"
      },
      "outputs": [],
      "source": []
    }
  ],
  "metadata": {
    "kernelspec": {
      "display_name": "Python 3 (ipykernel)",
      "language": "python",
      "name": "python3"
    },
    "language_info": {
      "codemirror_mode": {
        "name": "ipython",
        "version": 3
      },
      "file_extension": ".py",
      "mimetype": "text/x-python",
      "name": "python",
      "nbconvert_exporter": "python",
      "pygments_lexer": "ipython3",
      "version": "3.9.13"
    },
    "colab": {
      "provenance": [],
      "include_colab_link": true
    }
  },
  "nbformat": 4,
  "nbformat_minor": 5
}